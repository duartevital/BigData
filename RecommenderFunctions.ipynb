{
 "cells": [
  {
   "cell_type": "code",
   "execution_count": 1,
   "metadata": {},
   "outputs": [],
   "source": [
    "## O seguite código só serve para importar o SPARK\n",
    "## Se der para mudar o Kernal para o SPARK, pode ser retirado\n",
    "\n",
    "import findspark\n",
    "findspark.init()\n",
    "findspark.find()\n",
    "import pyspark\n",
    "from pyspark import SparkContext, SparkConf\n",
    "from pyspark.sql import SparkSession\n",
    "%config IPCompleter.greedy=True\n",
    "\n",
    "conf = pyspark.SparkConf().setAppName('appName').setMaster('local')\n",
    "sc = pyspark.SparkContext(conf=conf)\n",
    "spark = SparkSession(sc)"
   ]
  },
  {
   "cell_type": "markdown",
   "metadata": {},
   "source": [
    "## Imports"
   ]
  },
  {
   "cell_type": "code",
   "execution_count": 2,
   "metadata": {},
   "outputs": [],
   "source": [
    "from pyspark.sql.types import IntegerType\n",
    "from pyspark.sql.functions import *"
   ]
  },
  {
   "cell_type": "markdown",
   "metadata": {},
   "source": [
    "## <a id='2'> Ler Datasets </a>"
   ]
  },
  {
   "cell_type": "code",
   "execution_count": 3,
   "metadata": {},
   "outputs": [],
   "source": [
    "rawUserArtistData = sc.textFile(\"profiledata_06-May-2005/user_artist_data.txt\")\n",
    "rawArtistData = sc.textFile(\"profiledata_06-May-2005/artist_data.txt\")\n",
    "rawArtistAlias = sc.textFile(\"profiledata_06-May-2005/artist_alias.txt\")"
   ]
  },
  {
   "cell_type": "markdown",
   "metadata": {},
   "source": [
    "## <a id='2'> Helper Functions </a>\n",
    "\n",
    "As seguintes funções são usadas depois pelas Main Functions, as principais resposáveis pelo funcinamento do programa.\n",
    "Por isso, mudámos a ordem em que as funções são apresentadas, metendo as Helper antes das outras."
   ]
  },
  {
   "cell_type": "markdown",
   "metadata": {},
   "source": [
    "## buildArtistById"
   ]
  },
  {
   "cell_type": "code",
   "execution_count": 20,
   "metadata": {},
   "outputs": [],
   "source": [
    "#no livro é usado o flatMap, mas o resultado aqui é identico\n",
    "\n",
    "def buildArtistByID(rawArtistData):\n",
    "    artistDF = rawArtistData.map(lambda line: line.split(\"\\t\",1) if len(line.split(\"\\t\"))>1 else None).filter(lambda value: value is not None).toDF([\"id\",\"name\"])\n",
    "    artistDF = artistDF.withColumn(\"id\", artistDF[\"id\"].cast(IntegerType()))\n",
    "    return artistDF"
   ]
  },
  {
   "cell_type": "markdown",
   "metadata": {},
   "source": [
    "## buildArtistAlias"
   ]
  },
  {
   "cell_type": "code",
   "execution_count": 29,
   "metadata": {},
   "outputs": [],
   "source": [
    "def buildArtistAlias(rawArtistAlias):\n",
    "    artistAliasDF = rawArtistAlias.map(lambda line: line.split(\"\\t\",1) if line.split(\"\\t\")[0]!=\"\" else None).filter(lambda value: value is not None).toDF([\"artist\",\"alias\"])\n",
    "\n",
    "    artistAliasDF = artistAliasDF.withColumn(\"artist\", artistAliasDF[\"artist\"].cast(IntegerType()))\n",
    "    artistAliasDF = artistAliasDF.withColumn(\"alias\", artistAliasDF[\"alias\"].cast(IntegerType()))\n",
    "    \n",
    "    return artistAliasDF"
   ]
  },
  {
   "cell_type": "markdown",
   "metadata": {},
   "source": [
    "## buildCounts"
   ]
  },
  {
   "cell_type": "code",
   "execution_count": 35,
   "metadata": {},
   "outputs": [],
   "source": [
    "from pyspark.broadcast import Broadcast"
   ]
  },
  {
   "cell_type": "markdown",
   "metadata": {},
   "source": [
    "## <a id='2'> Main Functions </a>\n",
    "\n",
    "Principais funlções"
   ]
  },
  {
   "cell_type": "markdown",
   "metadata": {},
   "source": [
    "## Preparation"
   ]
  },
  {
   "cell_type": "code",
   "execution_count": 5,
   "metadata": {},
   "outputs": [],
   "source": [
    "def preparation(rawUserArtistData, rawArtistData, rawArtistAlias):\n",
    "    userArtistDF = rawUserArtistData.map(lambda line: line.split(\" \")).toDF([\"user\",\"artist\"]).select(\"user\", \"artist\")\n",
    "\n",
    "    userArtistDF = userArtistDF.withColumn(\"user\", userArtistDF[\"user\"].cast(IntegerType()))\n",
    "    userArtistDF = userArtistDF.withColumn(\"artist\", userArtistDF[\"artist\"].cast(IntegerType()))\n",
    "    \n",
    "    #userArtistDF.select(min(\"user\"), max(\"user\"), min(\"artist\"), max(\"artist\")).show()\n",
    "    \n",
    "    artistByID = buildArtistByID(rawArtistData)\n",
    "    artistAlias = buildArtistAlias(rawArtistAlias)\n",
    "    \n",
    "    badID = artistAliasDF.head()[0]\n",
    "    goodID = artistAliasDF.head()[1]\n",
    "    \n",
    "    #artistDF.filter(artistDF.id.isin(badID,goodID)).show()"
   ]
  },
  {
   "cell_type": "code",
   "execution_count": 30,
   "metadata": {},
   "outputs": [],
   "source": [
    "artistAlias = buildArtistAlias(rawArtistAlias)"
   ]
  },
  {
   "cell_type": "code",
   "execution_count": 34,
   "metadata": {
    "collapsed": true
   },
   "outputs": [
    {
     "name": "stdout",
     "output_type": "stream",
     "text": [
      "+-------+-------+\n",
      "| artist|  alias|\n",
      "+-------+-------+\n",
      "|6789612|1000591|\n",
      "|1262241|1000591|\n",
      "|6791455|1000591|\n",
      "|6694867|1000591|\n",
      "|1295140|1000591|\n",
      "|2127019|1000591|\n",
      "|2153974|1000591|\n",
      "|1232342|1000591|\n",
      "|1270720|1000591|\n",
      "|1238989|1000591|\n",
      "|2051851|1000591|\n",
      "|6794968|1000591|\n",
      "|2055818|1000591|\n",
      "|6676117|1000591|\n",
      "|2008951|1000591|\n",
      "|6679702|1000591|\n",
      "|6682384|1000591|\n",
      "|1330318|1000591|\n",
      "|6646693|1000591|\n",
      "|1290058|1000591|\n",
      "+-------+-------+\n",
      "only showing top 20 rows\n",
      "\n"
     ]
    }
   ],
   "source": [
    "artistAlias.filter(artistAlias[\"alias\"].isin(1000591)).show()"
   ]
  },
  {
   "cell_type": "markdown",
   "metadata": {},
   "source": [
    "## Model"
   ]
  },
  {
   "cell_type": "markdown",
   "metadata": {},
   "source": [
    "## Evaluate"
   ]
  },
  {
   "cell_type": "markdown",
   "metadata": {},
   "source": [
    "## Recommend"
   ]
  }
 ],
 "metadata": {
  "kernelspec": {
   "display_name": "Python 3",
   "language": "python",
   "name": "python3"
  },
  "language_info": {
   "codemirror_mode": {
    "name": "ipython",
    "version": 3
   },
   "file_extension": ".py",
   "mimetype": "text/x-python",
   "name": "python",
   "nbconvert_exporter": "python",
   "pygments_lexer": "ipython3",
   "version": "3.7.3"
  }
 },
 "nbformat": 4,
 "nbformat_minor": 2
}
