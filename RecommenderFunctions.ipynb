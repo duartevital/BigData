{
 "cells": [
  {
   "cell_type": "code",
   "execution_count": null,
   "metadata": {},
   "outputs": [],
   "source": [
    "## O seguite código só serve para importar o SPARK\n",
    "## Se der para mudar o Kernal para o SPARK, pode ser retirado\n",
    "\n",
    "import findspark\n",
    "findspark.init()\n",
    "findspark.find()\n",
    "import pyspark\n",
    "from pyspark import SparkContext, SparkConf\n",
    "from pyspark.sql import SparkSession\n",
    "%config IPCompleter.greedy=True\n",
    "\n",
    "conf = pyspark.SparkConf().setAppName('appName').setMaster('local')\n",
    "sc = pyspark.SparkContext(conf=conf)\n",
    "spark = SparkSession(sc)"
   ]
  },
  {
   "cell_type": "markdown",
   "metadata": {},
   "source": [
    "## Imports"
   ]
  },
  {
   "cell_type": "code",
   "execution_count": null,
   "metadata": {},
   "outputs": [],
   "source": [
    "from pyspark.sql.types import IntegerType\n",
    "from pyspark.sql.functions import *\n",
    "from pyspark.sql.functions import broadcast\n",
    "from pyspark.ml.recommendation import ALS\n",
    "from Lib import random"
   ]
  },
  {
   "cell_type": "markdown",
   "metadata": {},
   "source": [
    "## <a id='2'> Ler Datasets </a>"
   ]
  },
  {
   "cell_type": "code",
   "execution_count": null,
   "metadata": {},
   "outputs": [],
   "source": [
    "rawUserArtistData = sc.textFile(\"../../profiledata_06-May-2005/user_artist_data.txt\")\n",
    "rawArtistData = sc.textFile(\"../../profiledata_06-May-2005/artist_data.txt\")\n",
    "rawArtistAlias = sc.textFile(\"../../profiledata_06-May-2005/artist_alias.txt\")"
   ]
  },
  {
   "cell_type": "markdown",
   "metadata": {},
   "source": [
    "## <a id='2'> Helper Functions </a>\n",
    "\n",
    "As seguintes funções são usadas depois pelas Main Functions, as principais resposáveis pelo funcinamento do programa.\n",
    "Por isso, mudámos a ordem em que as funções são apresentadas, metendo as Helper antes das outras."
   ]
  },
  {
   "cell_type": "markdown",
   "metadata": {},
   "source": [
    "## buildArtistById"
   ]
  },
  {
   "cell_type": "code",
   "execution_count": null,
   "metadata": {},
   "outputs": [],
   "source": [
    "#no livro é usado o flatMap, mas o resultado aqui é identico\n",
    "\n",
    "def buildArtistByID(rawArtistData):\n",
    "    artistDF = rawArtistData.map(lambda line: line.split(\"\\t\",1) if len(line.split(\"\\t\"))>1 else None).filter(lambda value: value is not None).toDF([\"id\",\"name\"])\n",
    "    artistDF = artistDF.withColumn(\"id\", artistDF[\"id\"].cast(IntegerType()))\n",
    "    return artistDF"
   ]
  },
  {
   "cell_type": "markdown",
   "metadata": {},
   "source": [
    "## buildArtistAlias"
   ]
  },
  {
   "cell_type": "code",
   "execution_count": null,
   "metadata": {},
   "outputs": [],
   "source": [
    "def buildArtistAlias(rawArtistAlias):\n",
    "    artistAliasDF = rawArtistAlias.map(lambda line: line.split(\"\\t\",1) if line.split(\"\\t\")[0]!=\"\" else None).filter(lambda value: value is not None).toDF([\"artist_id\",\"alias\"])\n",
    "\n",
    "    artistAliasDF = artistAliasDF.withColumn(\"artist_id\", artistAliasDF[\"artist_id\"].cast(IntegerType()))\n",
    "    artistAliasDF = artistAliasDF.withColumn(\"alias\", artistAliasDF[\"alias\"].cast(IntegerType()))\n",
    "    \n",
    "    return artistAliasDF"
   ]
  },
  {
   "cell_type": "markdown",
   "metadata": {},
   "source": [
    "## buildCounts"
   ]
  },
  {
   "cell_type": "code",
   "execution_count": null,
   "metadata": {},
   "outputs": [],
   "source": [
    "def buildCounts(rawUserArtistData, bArtistAlias):\n",
    "    buildDF = rawUserArtistData.map(lambda line: line.split(\" \")).toDF([\"user\",\"artist\",\"count\"])\n",
    "\n",
    "    buildDF = buildDF.withColumn(\"user\", buildDF[\"user\"].cast(IntegerType()))\n",
    "    buildDF = buildDF.withColumn(\"artist\", buildDF[\"artist\"].cast(IntegerType()))\n",
    "    buildDF = buildDF.withColumn(\"count\", buildDF[\"count\"].cast(IntegerType()))\n",
    "    \n",
    "    joinExpression = buildDF[\"artist\"] == bArtistAlias[\"artist_id\"]\n",
    "    joinedDF = buildDF.join(bArtistAlias, joinExpression, \"left_outer\")\n",
    "    joinedDF = joinedDF.withColumn(\"artist\", when(joinedDF[\"alias\"].isNotNull(), joinedDF[\"alias\"]).otherwise(joinedDF[\"artist\"])).select(\"user\",\"artist\",\"count\")\n",
    "    \n",
    "    return joinedDF"
   ]
  },
  {
   "cell_type": "markdown",
   "metadata": {},
   "source": [
    "## <a id='2'> Main Functions </a>\n",
    "\n",
    "Principais funções"
   ]
  },
  {
   "cell_type": "markdown",
   "metadata": {},
   "source": [
    "## Preparation"
   ]
  },
  {
   "cell_type": "code",
   "execution_count": null,
   "metadata": {},
   "outputs": [],
   "source": [
    "def preparation(rawUserArtistData, rawArtistData, rawArtistAlias):\n",
    "    userArtistDF = rawUserArtistData.map(lambda line: line.split(\" \")).toDF([\"user\",\"artist\"]).select(\"user\", \"artist\")\n",
    "\n",
    "    userArtistDF = userArtistDF.withColumn(\"user\", userArtistDF[\"user\"].cast(IntegerType()))\n",
    "    userArtistDF = userArtistDF.withColumn(\"artist\", userArtistDF[\"artist\"].cast(IntegerType()))\n",
    "    \n",
    "    #userArtistDF.select(min(\"user\"), max(\"user\"), min(\"artist\"), max(\"artist\")).show()\n",
    "    \n",
    "    artistByID = buildArtistByID(rawArtistData)\n",
    "    artistAlias = buildArtistAlias(rawArtistAlias)\n",
    "    \n",
    "    badID = artistAliasDF.head()[0]\n",
    "    goodID = artistAliasDF.head()[1]\n",
    "    \n",
    "    #artistDF.filter(artistDF.id.isin(badID,goodID)).show()"
   ]
  },
  {
   "cell_type": "code",
   "execution_count": null,
   "metadata": {},
   "outputs": [],
   "source": [
    "artistAlias = buildArtistAlias(rawArtistAlias)"
   ]
  },
  {
   "cell_type": "code",
   "execution_count": null,
   "metadata": {},
   "outputs": [],
   "source": [
    "artistAlias.filter(artistAlias[\"alias\"].isin(6969903)).show()"
   ]
  },
  {
   "cell_type": "markdown",
   "metadata": {},
   "source": [
    "## Model"
   ]
  },
  {
   "cell_type": "code",
   "execution_count": null,
   "metadata": {},
   "outputs": [],
   "source": [
    "def model(rawUserArtistData, rawArtistData, rawArtistAlias):\n",
    "    bArtistAlias = broadcast(buildArtistAlias(rawArtistAlias))\n",
    "    trainData = buildCounts(rawUserArtistData, bArtistAlias)\n",
    "    \n",
    "    model = ALS()\\\n",
    "        .setSeed(random.randint(1000000000000000000, 9999999999999999999))\\\n",
    "        .setImplicitPrefs(True)\\\n",
    "        .setRank(10)\\\n",
    "        .setRegParam(0.01)\\\n",
    "        .setAlpha(1.0)\\\n",
    "        .setMaxIter(5)\\\n",
    "        .setUserCol(\"user\")\\\n",
    "        .setItemCol(\"artist\")\\\n",
    "        .setRatingCol(\"count\")\\\n",
    "        .setPredictionCol(\"prediction\")\\\n",
    "        .fit(trainData)\n",
    "    \n",
    "    trainData.unpersist()\n",
    "    \n",
    "    #model.userFactors.select(\"features\").show(truncate=False)\n",
    "    \n",
    "    return model"
   ]
  },
  {
   "cell_type": "code",
   "execution_count": null,
   "metadata": {},
   "outputs": [],
   "source": [
    "model_ = model(rawUserArtistData, rawArtistData, rawArtistAlias)"
   ]
  },
  {
   "cell_type": "code",
   "execution_count": null,
   "metadata": {},
   "outputs": [],
   "source": [
    "model_.userFactors.show(1,False)"
   ]
  },
  {
   "cell_type": "markdown",
   "metadata": {},
   "source": [
    "## Evaluate"
   ]
  },
  {
   "cell_type": "markdown",
   "metadata": {},
   "source": [
    "## Recommend"
   ]
  }
 ],
 "metadata": {
  "kernelspec": {
   "display_name": "Python 3",
   "language": "python",
   "name": "python3"
  },
  "language_info": {
   "codemirror_mode": {
    "name": "ipython",
    "version": 3
   },
   "file_extension": ".py",
   "mimetype": "text/x-python",
   "name": "python",
   "nbconvert_exporter": "python",
   "pygments_lexer": "ipython3",
   "version": "3.7.3"
  }
 },
 "nbformat": 4,
 "nbformat_minor": 2
}
