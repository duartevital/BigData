{
 "cells": [
  {
   "cell_type": "markdown",
   "metadata": {},
   "source": [
    "## Download Dataset\n",
    "\n",
    "Descarregar o Dataset a partir do URL dado no repositório GitHub do livro"
   ]
  },
  {
   "cell_type": "code",
   "execution_count": 11,
   "metadata": {},
   "outputs": [],
   "source": [
    "from urllib.request import urlopen\n",
    "\n",
    "url = 'https://storage.googleapis.com/aas-data-sets/profiledata_06-May-2005.tar.gz'\n",
    "file_name = url.split('/')[-1]\n",
    "u = urlopen(url)\n",
    "f = open(file_name, 'wb')\n",
    "\n",
    "while True:\n",
    "    buffer = u.read()\n",
    "    if not buffer:\n",
    "        break\n",
    "\n",
    "    f.write(buffer)\n",
    "\n",
    "f.close()\n"
   ]
  },
  {
   "cell_type": "markdown",
   "metadata": {},
   "source": [
    "## Extract Dataset\n",
    "\n",
    "Usada biblioteca tarfile para extrair ficheiros com extensão tar.gz.\n",
    "\n",
    "Depois da extração é apagado o ficheiro descarregado, visto já ser irrelevante."
   ]
  },
  {
   "cell_type": "code",
   "execution_count": 10,
   "metadata": {},
   "outputs": [],
   "source": [
    "from tarfile import TarFile\n",
    "import os\n",
    "\n",
    "tar = TarFile.open(file_name, \"r:gz\")\n",
    "tar.extractall()\n",
    "tar.close()\n",
    "\n",
    "os.remove(file_name)"
   ]
  }
 ],
 "metadata": {
  "kernelspec": {
   "display_name": "Python 3",
   "language": "python",
   "name": "python3"
  },
  "language_info": {
   "codemirror_mode": {
    "name": "ipython",
    "version": 3
   },
   "file_extension": ".py",
   "mimetype": "text/x-python",
   "name": "python",
   "nbconvert_exporter": "python",
   "pygments_lexer": "ipython3",
   "version": "3.7.3"
  }
 },
 "nbformat": 4,
 "nbformat_minor": 2
}
