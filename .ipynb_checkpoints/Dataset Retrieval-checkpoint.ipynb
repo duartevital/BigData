{
 "cells": [
  {
   "cell_type": "markdown",
   "metadata": {},
   "source": [
    "## Download Dataset\n",
    "\n",
    "Descarregar o Dataset a partir do URL dado no repositório GitHub do livro"
   ]
  },
  {
   "cell_type": "code",
   "execution_count": null,
   "metadata": {},
   "outputs": [],
   "source": [
    "from urllib.request import urlopen\n",
    "import os\n",
    "\n",
    "prefix = os.getcwd()\n",
    "url = 'https://storage.googleapis.com/aas-data-sets/profiledata_06-May-2005.tar.gz'\n",
    "file_name = url.split('/')[-1]\n",
    "u = urlopen(url)\n",
    "f = open(file_name, 'wb')\n",
    "\n",
    "while True:\n",
    "    buffer = u.read()\n",
    "    if not buffer:\n",
    "        break\n",
    "\n",
    "    f.write(buffer)\n",
    "\n",
    "f.close()\n"
   ]
  },
  {
   "cell_type": "code",
   "execution_count": null,
   "metadata": {},
   "outputs": [],
   "source": [
    "os.getcwd()"
   ]
  },
  {
   "cell_type": "markdown",
   "metadata": {},
   "source": [
    "## Extract Dataset\n",
    "\n",
    "Usada biblioteca *tarfile* para extrair ficheiros com extensão *tar.gz*.\n",
    "\n",
    "Depois da extração é apagado o ficheiro descarregado, visto já ser irrelevante."
   ]
  },
  {
   "cell_type": "code",
   "execution_count": null,
   "metadata": {},
   "outputs": [],
   "source": [
    "from tarfile import TarFile\n",
    "import os\n",
    "\n",
    "tar = TarFile.open(file_name, \"r:gz\")\n",
    "tar.extractall()\n",
    "tar.close()\n",
    "\n",
    "os.remove(file_name)"
   ]
  },
  {
   "cell_type": "markdown",
   "metadata": {},
   "source": [
    "## Upload do dataset no AWS"
   ]
  },
  {
   "cell_type": "markdown",
   "metadata": {},
   "source": [
    "Agora que o dataset está disponível para ser utilizado, o próximo passo é carregá-lo para o componente S3 do AWS.\n",
    "Para fazer é preciso criar um Bucket, portanto, se isto ainda não estiver feito, seguem-se os passos para criá-lo:\n",
    "\n",
    "1. Na página inicial da consola AWS, pesquisar \"S3\" na barra de procura dos Services.\n",
    "\n",
    "![](Images/A1.png)\n",
    "\n",
    "2. Criar o Bucket.\n",
    "\n",
    "![](Images/A2.png)\n",
    "\n",
    "    O único parâmetro a alterar/preencher é o nome do Bucket.\n",
    "![](Images/A3.png)"
   ]
  },
  {
   "cell_type": "markdown",
   "metadata": {},
   "source": [
    "Agora que temos um Bucket, fazer o upload do dataset é simples:\n",
    "\n",
    "1. Entrar no Bucket e clicar em Upload.\n",
    "\n",
    "![](Images/B1.png)\n",
    "\n",
    "2. Clicar em \"Add Files\" e selecionar os ficheiros.\n",
    "\n",
    "![](Images/B2.png)\n",
    "\n",
    "3. Verificar os ficheiros e clicar Upload\n",
    "\n",
    "![](Images/B3.png)"
   ]
  }
 ],
 "metadata": {
  "kernelspec": {
   "display_name": "Python 3",
   "language": "python",
   "name": "python3"
  },
  "language_info": {
   "codemirror_mode": {
    "name": "ipython",
    "version": 3
   },
   "file_extension": ".py",
   "mimetype": "text/x-python",
   "name": "python",
   "nbconvert_exporter": "python",
   "pygments_lexer": "ipython3",
   "version": "3.7.3"
  }
 },
 "nbformat": 4,
 "nbformat_minor": 2
}
