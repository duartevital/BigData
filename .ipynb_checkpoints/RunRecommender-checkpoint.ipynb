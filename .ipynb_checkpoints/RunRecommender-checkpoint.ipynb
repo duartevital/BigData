{
 "cells": [
  {
   "cell_type": "code",
   "execution_count": 1,
   "metadata": {},
   "outputs": [],
   "source": [
    "## O seguite código só serve para importar o SPARK\n",
    "## Se der para mudar o Kernal para o SPARK, pode ser retirado\n",
    "\n",
    "import findspark\n",
    "findspark.init()\n",
    "findspark.find()\n",
    "import pyspark\n",
    "from pyspark import SparkContext, SparkConf\n",
    "from pyspark.sql import SparkSession\n",
    "%config IPCompleter.greedy=True\n",
    "\n",
    "conf = pyspark.SparkConf().setAppName('appName').setMaster('local')\n",
    "sc = pyspark.SparkContext(conf=conf)\n",
    "spark = SparkSession(sc)"
   ]
  },
  {
   "cell_type": "markdown",
   "metadata": {},
   "source": [
    "## Imports"
   ]
  },
  {
   "cell_type": "code",
   "execution_count": 4,
   "metadata": {},
   "outputs": [],
   "source": [
    "from pyspark.sql.types import IntegerType\n",
    "from pyspark.sql.functions import *"
   ]
  },
  {
   "cell_type": "markdown",
   "metadata": {},
   "source": [
    "## <a id='2'> Ler Datasets </a>"
   ]
  },
  {
   "cell_type": "code",
   "execution_count": 2,
   "metadata": {},
   "outputs": [],
   "source": [
    "rawUserArtistData = sc.textFile(\"profiledata_06-May-2005/user_artist_data.txt\")\n",
    "rawArtistData = sc.textFile(\"profiledata_06-May-2005/artist_data.txt\")\n",
    "rawArtistAlias = sc.textFile(\"profiledata_06-May-2005/artist_alias.txt\")"
   ]
  },
  {
   "cell_type": "markdown",
   "metadata": {},
   "source": [
    "## <a id='2'> Helper Functions </a>\n",
    "\n",
    "As seguintes funções são usadas depois pelas Main Functions, as principais resposáveis pelo funcinamento do programa.\n",
    "Por isso, mudámos a ordem em que as funções são apresentadas, metendo as Helper antes das outras."
   ]
  },
  {
   "cell_type": "markdown",
   "metadata": {},
   "source": [
    "## buildArtistById"
   ]
  },
  {
   "cell_type": "code",
   "execution_count": 7,
   "metadata": {},
   "outputs": [],
   "source": [
    "#no livro é usado o flatMap, mas o resultado aqui é identico\n",
    "\n",
    "artistDF = rawArtistData.map(lambda line: line.split(\"\\t\",1) if len(line.split(\"\\t\"))>1 else None).filter(lambda value: value is not None).toDF([\"id\",\"name\"])\n",
    "\n",
    "artistDF = artistDF.withColumn(\"id\", artistDF[\"id\"].cast(IntegerType()))"
   ]
  },
  {
   "cell_type": "markdown",
   "metadata": {},
   "source": [
    "## buildArtistAlias"
   ]
  },
  {
   "cell_type": "code",
   "execution_count": 8,
   "metadata": {},
   "outputs": [],
   "source": [
    "artistAliasDF = rawArtistAlias.map(lambda line: line.split(\"\\t\",1) if line.split(\"\\t\")[0]!=\"\" else None).filter(lambda value: value is not None).toDF([\"artist\",\"alias\"])\n",
    "\n",
    "artistAliasDF = artistAliasDF.withColumn(\"artist\", artistAliasDF[\"artist\"].cast(IntegerType()))\n",
    "artistAliasDF = artistAliasDF.withColumn(\"alias\", artistAliasDF[\"alias\"].cast(IntegerType()))"
   ]
  },
  {
   "cell_type": "markdown",
   "metadata": {},
   "source": [
    "## <a id='2'> Main Functions </a>\n",
    "\n",
    "Principais funlções"
   ]
  },
  {
   "cell_type": "markdown",
   "metadata": {},
   "source": [
    "## Preparation"
   ]
  },
  {
   "cell_type": "code",
   "execution_count": 5,
   "metadata": {},
   "outputs": [],
   "source": [
    "userArtistDF = rawUserArtistData.map(lambda line: line.split(\" \")).toDF([\"user\",\"artist\"]).select(\"user\", \"artist\")\n",
    "\n",
    "userArtistDF = userArtistDF.withColumn(\"user\", userArtistDF[\"user\"].cast(IntegerType()))\n",
    "userArtistDF = userArtistDF.withColumn(\"artist\", userArtistDF[\"artist\"].cast(IntegerType()))"
   ]
  },
  {
   "cell_type": "code",
   "execution_count": 6,
   "metadata": {
    "collapsed": true
   },
   "outputs": [
    {
     "name": "stdout",
     "output_type": "stream",
     "text": [
      "+---------+---------+-----------+-----------+\n",
      "|min(user)|max(user)|min(artist)|max(artist)|\n",
      "+---------+---------+-----------+-----------+\n",
      "|       90|  2443548|          1|   10794401|\n",
      "+---------+---------+-----------+-----------+\n",
      "\n"
     ]
    }
   ],
   "source": [
    "userArtistDF.select(min(\"user\"), max(\"user\"), min(\"artist\"), max(\"artist\")).show()"
   ]
  },
  {
   "cell_type": "code",
   "execution_count": 16,
   "metadata": {},
   "outputs": [],
   "source": [
    "badID = artistAliasDF.head()[0]\n",
    "goodID = artistAliasDF.head()[1]"
   ]
  },
  {
   "cell_type": "code",
   "execution_count": 23,
   "metadata": {
    "collapsed": true
   },
   "outputs": [
    {
     "name": "stdout",
     "output_type": "stream",
     "text": [
      "+-------+----------------+\n",
      "|     id|            name|\n",
      "+-------+----------------+\n",
      "|1208690|Collective Souls|\n",
      "|1003926| Collective Soul|\n",
      "+-------+----------------+\n",
      "\n"
     ]
    }
   ],
   "source": [
    "#artistDF.filter(artistDF.id.isin(badID,goodID)).show()\n",
    "artistDF.filter(artistDF.id.isin(1208690, 1003926)).show()"
   ]
  }
 ],
 "metadata": {
  "kernelspec": {
   "display_name": "Python 3",
   "language": "python",
   "name": "python3"
  },
  "language_info": {
   "codemirror_mode": {
    "name": "ipython",
    "version": 3
   },
   "file_extension": ".py",
   "mimetype": "text/x-python",
   "name": "python",
   "nbconvert_exporter": "python",
   "pygments_lexer": "ipython3",
   "version": "3.7.3"
  }
 },
 "nbformat": 4,
 "nbformat_minor": 2
}
